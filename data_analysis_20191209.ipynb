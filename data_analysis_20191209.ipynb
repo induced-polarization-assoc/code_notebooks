{
 "cells": [
  {
   "cell_type": "markdown",
   "metadata": {},
   "source": [
    "# Data Analysis with MySQL Local Server and Induced Polarization Data"
   ]
  },
  {
   "cell_type": "markdown",
   "metadata": {},
   "source": [
    "First I need to figure out how to access the SQL database and tables on a Windows 10 Machine... Then I can load the data up into a dataframe or a Numpy array and get the sucker processed for Complex Impedance, Real Impedance, Phase Deltas, etc. "
   ]
  },
  {
   "cell_type": "code",
   "execution_count": 4,
   "metadata": {},
   "outputs": [],
   "source": [
    "import numpy\n",
    "import scipy"
   ]
  },
  {
   "cell_type": "code",
   "execution_count": 5,
   "metadata": {},
   "outputs": [],
   "source": [
    "# Importing the SQL Connection API for Python\n",
    "import mysql.connector"
   ]
  },
  {
   "cell_type": "code",
   "execution_count": 22,
   "metadata": {},
   "outputs": [],
   "source": [
    "# Connect to the database via Python\n",
    "ipa_data_db = mysql.connector.connect(\n",
    "    host = \"localhost\",\n",
    "    user = \"jjradler\",\n",
    "    passwd = \"Aoniji528!\",\n",
    "    database = \"ipa_data\"\n",
    ")"
   ]
  },
  {
   "cell_type": "code",
   "execution_count": 23,
   "metadata": {},
   "outputs": [],
   "source": [
    "# Construct the Cursor for navigating the database\n",
    "thecursor = ipa_data_db.cursor()"
   ]
  },
  {
   "cell_type": "code",
   "execution_count": 24,
   "metadata": {},
   "outputs": [],
   "source": [
    "# Note that this won't show anything interesting if it works properly.\n",
    "thecursor.execute(\"SHOW TABLES\")"
   ]
  },
  {
   "cell_type": "code",
   "execution_count": 25,
   "metadata": {},
   "outputs": [
    {
     "name": "stdout",
     "output_type": "stream",
     "text": [
      "('data_analysis',)\n",
      "('data_analysis_packet_result',)\n",
      "('data_packets',)\n",
      "('fft_by_channel_index',)\n",
      "('fft_calc',)\n",
      "('test_run',)\n"
     ]
    }
   ],
   "source": [
    "# the objects held in `thecursor` must be selected and printed\n",
    "for x in thecursor:\n",
    "    print(x)"
   ]
  },
  {
   "cell_type": "code",
   "execution_count": null,
   "metadata": {},
   "outputs": [],
   "source": []
  }
 ],
 "metadata": {
  "kernelspec": {
   "display_name": "Python 3",
   "language": "python",
   "name": "python3"
  },
  "language_info": {
   "codemirror_mode": {
    "name": "ipython",
    "version": 3
   },
   "file_extension": ".py",
   "mimetype": "text/x-python",
   "name": "python",
   "nbconvert_exporter": "python",
   "pygments_lexer": "ipython3",
   "version": "3.5.4"
  }
 },
 "nbformat": 4,
 "nbformat_minor": 2
}
