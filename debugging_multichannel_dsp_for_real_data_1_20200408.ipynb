{
 "cells": [
  {
   "cell_type": "markdown",
   "metadata": {},
   "source": [
    "# Testing the Functionality with Real Data!\n",
    "04.08.2020\n",
    "by jjr\n",
    "\n",
    "---\n",
    "Now, a real sample dataset from oil-under-ice will be loaded and a single packet will be processed with this DSP algorithm to ensure compatibility and proper operation.    \n",
    "\n",
    "To streamline the process of debugging and testing these functions in the Jupyter Notebook environment, the supporting function definitions are provided first, followed by the DSP core functions that product the resultant matrices.  It was demonstrated in another notebook using these algorithms that the triggering logic is not sufficiently generalized to apply them to waveforms other than square-waves (as some of the distortions in the real-data will cause the trigger detection algorithm to fail and crash the processing application. \n",
    "\n",
    "First, the functions are defined for the DSP algorithms applied. \n",
    "\n",
    "---"
   ]
  },
  {
   "cell_type": "markdown",
   "metadata": {},
   "source": [
    "## 1.  The DSP Algorithm Setup"
   ]
  },
  {
   "cell_type": "code",
   "execution_count": 1,
   "metadata": {},
   "outputs": [],
   "source": [
    "#  module imports\n",
    "import matplotlib.pyplot as plt\n",
    "import numpy as np\n",
    "import numpy.fft as fft\n",
    "import numpy.linalg as linalg\n",
    "import os"
   ]
  },
  {
   "cell_type": "code",
   "execution_count": 2,
   "metadata": {},
   "outputs": [],
   "source": [
    "# Settings\n",
    "VERBOSE = True\n",
    "DEBUG = True\n",
    "DEBUG_PLOT = True\n",
    "ANALYSIS_PLOT = True"
   ]
  },
  {
   "cell_type": "markdown",
   "metadata": {},
   "source": [
    "### 1A. Global Constants and Conversion Factor Definitions"
   ]
  },
  {
   "cell_type": "code",
   "execution_count": 3,
   "metadata": {},
   "outputs": [],
   "source": [
    "# Global Constants for an Analysis\n",
    "PACKET_NUMBER = 1\n",
    "SAMPLE_PERIOD = 1  # seconds\n",
    "PI = np.pi  "
   ]
  },
  {
   "cell_type": "code",
   "execution_count": 4,
   "metadata": {},
   "outputs": [],
   "source": [
    "def convert_rads_to_hertz(frequency_domain):\n",
    "    \"\"\"\n",
    "    :param frequency_domain: Resulting frequency domain from fft.rfftfreq function.\n",
    "    \"\"\"\n",
    "    hz_per_rad_s = 2 * np.pi\n",
    "    hertz_values = frequency_domain * hz_per_rad_s\n",
    "    return hertz_values"
   ]
  },
  {
   "cell_type": "code",
   "execution_count": 5,
   "metadata": {},
   "outputs": [],
   "source": [
    "def convert_hertz_to_rad_s(frequency_domain):\n",
    "    \"\"\"\n",
    "    :param frequency_domain: Resulting frequency domain from fft.rfftfreq function.\n",
    "    \"\"\"\n",
    "    hz_per_rad_s = 2 * np.pi\n",
    "    rad_s_per_hz = 1 / hz_per_rad_s  # rads/Hz\n",
    "    rad_s_values = frequency_domain * hz_per_rad_s\n",
    "    return rad_s_values"
   ]
  },
  {
   "cell_type": "markdown",
   "metadata": {},
   "source": [
    "### 1B. Data Import from Text File"
   ]
  },
  {
   "cell_type": "code",
   "execution_count": 6,
   "metadata": {},
   "outputs": [],
   "source": [
    "def import_data(input_file_string):\n",
    "    input_file_path = os.path.join(os.getcwd(), input_file)\n",
    "    print(input_file_path)\n",
    "    p_start_marker = f\"${PACKET_NUMBER}\\n\"  # consider using a regex here instead for better precision/accuracy\n",
    "    p_end_marker = \"*\"\n",
    "\n",
    "    # This parsing method seems quite speedy with a bunch of lazy evaluation... \n",
    "    # interestingly, the next() method for generators will allow for iteration through \n",
    "    # ALL packets lazily. \n",
    "    with open(input_file_path, \"r\") as file:\n",
    "        lines = file.readlines()\n",
    "        start_generator = (index for index, line in enumerate(lines) if line.startswith(p_start_marker))\n",
    "        end_generator = (index for index, line in enumerate(lines) if line.startswith(p_end_marker))\n",
    "        raw_packet_list = lines[next(start_generator) + 10: next(end_generator)]\n",
    "        \n",
    "    raw_signals_matrix = np.genfromtxt(raw_packet_list, delimiter=\",\")\n",
    "    "
   ]
  },
  {
   "cell_type": "markdown",
   "metadata": {},
   "source": [
    "### 1C.  Derived Constants"
   ]
  },
  {
   "cell_type": "code",
   "execution_count": 7,
   "metadata": {},
   "outputs": [],
   "source": [
    "def set_derived_constants(signals_matrix, PERIOD):\n",
    "    # Everything seems in order here, which is good... \n",
    "    # One can also derive the array dimensions needed in the next steps from the input \n",
    "    # file alone with no other a priori knowledge with is also good. \n",
    "    N_SAMPLES = signals_matrix.shape[0]\n",
    "    Q_CHANNELS = signals_matrix.shape[-1]\n",
    "    F_S = np.divide(N_SAMPLES, PERIOD)\n",
    "    TAU = np.divide(1, F_S)\n",
    "    \n",
    "    # verbose testprint for debugging:\n",
    "    if VERBOSE:\n",
    "        print(f\"Array loaded for packet {PACKET_NUMBER}: Dimensions ({N_SAMPLES} X {Q_CHANNELS})\")\n",
    "        print(f\"Sampling Frequency: {F_S} [S/s] , sampled over {PERIOD} seconds)\")\n",
    "    \n",
    "    return N_SAMPLES, Q_CHANNELS, F_S, TAU"
   ]
  },
  {
   "cell_type": "markdown",
   "metadata": {},
   "source": [
    "### 1D. Filter Design and Definition"
   ]
  },
  {
   "cell_type": "code",
   "execution_count": 8,
   "metadata": {},
   "outputs": [],
   "source": [
    "### Filtering\n",
    "def butterworth_digital_lpf(sig, n_samples, f_sample, f_order, f_cut, analysis_plot=False):\n",
    "    \"\"\"\n",
    "    .. function:: butterworth_analog_lpf\n",
    "    .. description::\n",
    "    :param sig:\n",
    "    :param order:\n",
    "    :param f_cut:\n",
    "    :return w:\n",
    "    :return h:\n",
    "    :return filt_sig:\n",
    "    \"\"\"\n",
    "    # Define second-order sections representation of the IIR filter.\n",
    "    sos = signal.butter(f_order, f_cut, 'lp', fs=f_sample, analog=False, output='sos')\n",
    "    # Apply the filter to our signal.\n",
    "    filt_sig = signal.sosfilt(sos, sig)\n",
    "    \n",
    "    if analysis_plot:\n",
    "        # Compute the numerator and denominator polynomials of the IIR filter.\n",
    "        b, a = signal.butter(f_order, f_cut, 'lp', fs=f_sample, analog=False)\n",
    "        # Compute the frequency response of an analog filter.\n",
    "        w, h = signal.freqs(b, a)\n",
    "        # and plot results:\n",
    "        t = np.linspace(0, n_samples - 1, n_samples)\n",
    "        plot_wave_freqresp_filter(t, sig, filt_sig, w, h, f_order, f_cut)\n",
    "\n",
    "    return filt_sig"
   ]
  },
  {
   "cell_type": "markdown",
   "metadata": {},
   "source": [
    "### Time-Series Waveform Characterization: \n",
    "It does seem like part of the issue with the triggering logic is the lack of ability to compensate for what we will call \"dead\" channels or heavily distorted data channels.  These dead channels can be understood as having only static or noise oscillations. The distorted channels will be distorted square waves, and could be due to a number of factors including short-circuits in the signal receiver hardware and impedance mismatches in connections to the cable array and/or the topside control data circuitry. \n",
    "\n",
    "Accordingly, it makes sense to apply as efficient an automated characterization method as possible to see if there are dead or distorted channels that can be omitted from the analysis for now. "
   ]
  },
  {
   "cell_type": "code",
   "execution_count": 9,
   "metadata": {},
   "outputs": [],
   "source": [
    "# if the signals are below a certain threshold, they should be considered \"dead\"\n",
    "# and used for measuring a baseline internal instrument noise metric only. \n",
    "def check_channel_activity(time_series_signal):\n",
    "    pass"
   ]
  },
  {
   "cell_type": "code",
   "execution_count": 10,
   "metadata": {},
   "outputs": [],
   "source": [
    "# if the signals are above a certain threshold, they could be \n",
    "# correlated with an ideal square wave by convolution? \n",
    "def check_channel_correlation(time_series_signal):\n",
    "    pass"
   ]
  },
  {
   "cell_type": "code",
   "execution_count": null,
   "metadata": {},
   "outputs": [],
   "source": []
  },
  {
   "cell_type": "markdown",
   "metadata": {},
   "source": [
    "### Time Series Conditioning and Triggering Logic"
   ]
  },
  {
   "cell_type": "code",
   "execution_count": 11,
   "metadata": {},
   "outputs": [],
   "source": [
    "def time_series_conditioning(raw_time_series_matrix, f_s, f_order, f_cut, analysis_plot):\n",
    "    \"\"\"\n",
    "    .. fucntion:: signal_conditioning\n",
    "    .. description::\n",
    "    :param time_series_matrix:\n",
    "    :return win_sig_0: Trigger-windowed ORIGINAL noisy signals (no filters) array with offset removed and start times (t0q) for channel-q shifted to match using triggers. \n",
    "    \"\"\"\n",
    "    # definitions\n",
    "    # number of channels q\n",
    "    q_channels = raw_time_series_matrix.shape[-1]\n",
    "    \n",
    "    # Remove DC offsets\n",
    "    zeroed_time_series_matrix = remove_dc_offset(raw_time_series_matrix)\n",
    "    \n",
    "    # Locate trigger times and return arrays of t_starts and n_lengths. Include filter parameters.\n",
    "    t_starts, n_lengths = set_triggers(zeroed_time_series_matrix, f_s, f_order, f_cut, analysis_plot)\n",
    "    \n",
    "    # set the minimum trimmed length to match all channels-q\n",
    "    n_min = np.nanmin(n_lengths)\n",
    "    # adjust the minimum length to n_min - 1 if the value for n_min is odd (for simplifying FFTs later)\n",
    "    if n_min % 2 != 0:\n",
    "        n_min = n_min - 1\n",
    "    \n",
    "    # define complex output signal array based on `n_min` and `q_channels`\n",
    "    output_signal_matrix = np.empty((n_min, q_channels), dtype=np.complex64)\n",
    "    \n",
    "    # Iteratively Shift signals in each channel over and truncate to match the others \n",
    "    # based on the start triggers and array lengths determined by `set_triggers()`\n",
    "    for q in range(0, q_channels):   \n",
    "        if VERBOSE:\n",
    "            print(f\"Shifting signal start and trimming length for signal channel {q + 1}\")\n",
    "        output_signal_matrix[:, q] = shift_signal_to_triggers(raw_time_series_matrix[:, q], t_starts[q], n_min)\n",
    "        \n",
    "    # testprint\n",
    "    if DEBUG:\n",
    "        print(f\"output_signal_matrix dimensions are now {output_signal_matrix.shape}...\")\n",
    "    return output_signal_matrix"
   ]
  },
  {
   "cell_type": "code",
   "execution_count": 12,
   "metadata": {},
   "outputs": [],
   "source": [
    "def shift_signal_to_triggers(time_series_q, t0q, n_min):\n",
    "    \"\"\"\n",
    "    .. function:: shift_signals_to_triggers\n",
    "    .. description::\n",
    "    :param time_series_q:\n",
    "    :param t0q:\n",
    "    :param n_min:\n",
    "    :return channel_out:  Output array of length `n_min` for channel-q shifted to the global t0 and trimmed to match `n_min`.\n",
    "    \"\"\"\n",
    "    if DEBUG:\n",
    "        print(f\"Rolling time-series by {-t0q} and truncating to length {n_min}...\")\n",
    "    return np.roll(time_series_q, -t0q)[0: n_min]"
   ]
  },
  {
   "cell_type": "code",
   "execution_count": 13,
   "metadata": {},
   "outputs": [],
   "source": [
    "def set_triggers(s_t_matrix, f_s, filter_order, filter_cut, analysis_plot):\n",
    "    \"\"\"\n",
    "    .. function: set_triggers:\n",
    "    .. description::\n",
    "    :param s_t_matrix:\n",
    "    :param filter_order:\n",
    "    :param filter_cut:\n",
    "    :return t0s:\n",
    "    :return nlengs:\n",
    "    \"\"\"\n",
    "    # definitions:\n",
    "    q_channels = s_t_matrix.shape[-1]\n",
    "    n_raw = s_t_matrix.shape[0]\n",
    "    t0s = []\n",
    "    nlengs = []\n",
    "    \n",
    "    # for each channel-q:\n",
    "    for q in range(0, q_channels):\n",
    "        # filter\n",
    "        filt_signal = butterworth_digital_lpf(s_t_matrix[:, q], n_raw, f_s, filter_order, filter_cut, analysis_plot)\n",
    "        # compute gradient and max gradient value of filtered signal\n",
    "        filt_g_signal = np.gradient(filt_signal)\n",
    "        g_max = np.nanmax(filt_g_signal)\n",
    "        n_filt = filt_signal.shape[0]\n",
    "        # get first positive trigger t0q\n",
    "        t0q = rising_edge_trigger(filt_signal, filt_g_signal, g_max, n_filt)\n",
    "        # get last negative trigger tfq\n",
    "        tfq = falling_edge_trigger(filt_signal, filt_g_signal, g_max, n_filt)\n",
    "        t0s.append(t0q)\n",
    "        nlengs.append(np.abs(tfq - t0q))\n",
    "    return t0s, nlengs"
   ]
  },
  {
   "cell_type": "code",
   "execution_count": 14,
   "metadata": {},
   "outputs": [],
   "source": [
    "def rising_edge_trigger(filt_zeroed_sig, filt_sig_gradient, gradient_max, N):\n",
    "    \"\"\"\n",
    "    \"\"\"\n",
    "    # There is a problem with this logic... \n",
    "    positive_trigger_indices = (j for j in range(N - 1) if \n",
    "                           ((filt_sig_gradient[j] >= (2/3) * gradient_max) and\n",
    "                            filt_zeroed_sig[j - 1] < filt_zeroed_sig[j]))\n",
    "    t0 = next(positive_trigger_indices)\n",
    "    if VERBOSE:\n",
    "        print(f\"First rising trigger found at index {t0}!\")\n",
    "    return t0"
   ]
  },
  {
   "cell_type": "code",
   "execution_count": 15,
   "metadata": {},
   "outputs": [],
   "source": [
    "def falling_edge_trigger(filt_zeroed_sig, filt_sig_gradient, gradient_max, N):\n",
    "    \"\"\"\n",
    "    \"\"\"\n",
    "    # There is a problem with this logic... \n",
    "    negative_trigger_indices = (j for j in range(N-1, 0, -1)  if \n",
    "                            ((filt_sig_gradient[j] <= (2/3) * -gradient_max) and\n",
    "                             filt_zeroed_sig[j + 1] < filt_zeroed_sig[j]))\n",
    "    tf = next(negative_trigger_indices)\n",
    "    if VERBOSE:\n",
    "        print(f\"Last falling trigger found at index {tf}!\")\n",
    "    return tf"
   ]
  },
  {
   "cell_type": "markdown",
   "metadata": {},
   "source": [
    "### Computing Apparent Impedance and Phase Shift Spectra"
   ]
  },
  {
   "cell_type": "code",
   "execution_count": 16,
   "metadata": {},
   "outputs": [],
   "source": [
    "def apparent_impedance_spectrum(s0k, sqk):\n",
    "    \"\"\"\n",
    "    Estimate the apparent impedance spectrum ||Z(k)||^2 for a shunt(s0_k) <--> RX Channel (sq_k) pair by taking the magnitude \n",
    "    of the difference between the two complex spectra. This yields the REAL part of the complex impedance of the target and water network\n",
    "    between RX electrodes and removes the internal real impedance from the transmitter shunt. \n",
    "    \n",
    "    :param s0k:\n",
    "    :param sqk:\n",
    "    :return zqk:\n",
    "    \"\"\"\n",
    "    zqk = np.absolute(s0k - sqk)\n",
    "    return zqk"
   ]
  },
  {
   "cell_type": "code",
   "execution_count": 17,
   "metadata": {},
   "outputs": [],
   "source": [
    "def phase_difference_spectrum(s0k, sqk):\n",
    "    \"\"\"\n",
    "    .. function:: phase_difference_spectrum()\n",
    "    .. description:: Estimate the phase angle of each waveform and the associated shift between them, holding\n",
    "    S_a(k) as a reference wavform and taking the difference of the derived phase arrays. \n",
    "    \n",
    "    The phase shift corresponds to modulation of the complex part of the transmitted/\n",
    "    received waveform, which is an indication of either inductive or capacitive frequency-\n",
    "    dependent responses of the signal due to the electrical network betweewn the electrodes\n",
    "    formed by the water and target. \n",
    "    \n",
    "    Calculate the phase shift from a reference spectrum (sa_k) and a shifted spectrum (sb_k)\n",
    "    \n",
    "    :param s0k:\n",
    "    :param sqk:\n",
    "    :return phase_shift_spectrum:\n",
    "    \"\"\"\n",
    "    phase0k = np.angle(s0k) \n",
    "    phaseqk = np.angle(sqk)\n",
    "    phase_shift = np.subtract(phaseqk, phase0k)\n",
    "    \n",
    "    # Correct phase shift angles for values outside np.pi -- removes false positive/negative values.\n",
    "    for m in range(phase_shift.shape[0]):\n",
    "        if phase_shift[m] > np.pi:\n",
    "            phase_shift[m] = 2.00 * np.pi - phase_shift[m]\n",
    "        elif phase_shift[m] < -np.pi:\n",
    "            phase_shift[m] = phase_shift[m] + 2.00 * np.pi\n",
    "        else:\n",
    "            continue\n",
    "    \n",
    "    return phase_shift"
   ]
  },
  {
   "cell_type": "code",
   "execution_count": 18,
   "metadata": {},
   "outputs": [],
   "source": [
    "def packet_dsp(t, s_t, period, f_s, filter_order=4, filter_cut=200, filter_analysis_plot=False):\n",
    "    \"\"\"\n",
    "    .. function:: \n",
    "    .. description:: Single-packet Signal Processing. \n",
    "    :param t:\n",
    "    :param s_t:\n",
    "    :param tau:\n",
    "    :param filter_order:\n",
    "    :param filter_cut:\n",
    "    :return k_domain:\n",
    "    :return conditioned_time_series:\n",
    "    :return marine_ip_k:\n",
    "    :return marine_r_k:\n",
    "    \"\"\"\n",
    "    # def time_series_conditioning(raw_time_series_matrix, f_s, f_order, f_cut, analysis_plot\n",
    "    conditioned_time_series = time_series_conditioning(s_t, f_s, filter_order, filter_cut, filter_analysis_plot)\n",
    "    number_of_channels = conditioned_time_series.shape[-1]\n",
    "    print(\"Now computing FFT, Marine Resistivity, and Marine IP Responses for the packet...\")\n",
    "    N_samples = conditioned_time_series.shape[0]\n",
    "    # definitions for numpy arrays and constants\n",
    "    tau = np.float(period / f_s)\n",
    "    k_domain = fft.fftfreq(N_samples, tau)\n",
    "    s_k = np.zeros((k_domain.shape[0], number_of_channels), dtype=np.complex64)\n",
    "    marine_ip_k = np.zeros((k_domain.shape[0], number_of_channels), dtype=np.complex64)\n",
    "    marine_r_k = np.zeros((k_domain.shape[0], number_of_channels), dtype=np.complex64)\n",
    "    # iterate over all channels to compute the FFT, phase difference between shunt and channels, and apparent impedance spectra between channels\n",
    "    for q in range(0, number_of_channels):\n",
    "        s_k[:, q] = (2.00 / N_samples) * fft.fft(conditioned_time_series[:, q])\n",
    "        marine_ip_k[:, q]= phase_difference_spectrum(s_k[:,0], s_k[:,q])\n",
    "        marine_r_k[:, q] = apparent_impedance_spectrum(s_k[:, 0], s_k[:, q])\n",
    "    if VERBOSE:\n",
    "        print(f\"Yielded two matrices: phase shift shape= ({marine_ip_k.shape}) and resistivity shape = ({marine_r_k.shape}))\")\n",
    "    return k_domain, conditioned_time_series, marine_ip_k, marine_r_k"
   ]
  },
  {
   "cell_type": "code",
   "execution_count": null,
   "metadata": {},
   "outputs": [],
   "source": []
  },
  {
   "cell_type": "code",
   "execution_count": null,
   "metadata": {},
   "outputs": [],
   "source": []
  }
 ],
 "metadata": {
  "kernelspec": {
   "display_name": "Python 3",
   "language": "python",
   "name": "python3"
  },
  "language_info": {
   "codemirror_mode": {
    "name": "ipython",
    "version": 3
   },
   "file_extension": ".py",
   "mimetype": "text/x-python",
   "name": "python",
   "nbconvert_exporter": "python",
   "pygments_lexer": "ipython3",
   "version": "3.6.8"
  }
 },
 "nbformat": 4,
 "nbformat_minor": 4
}
